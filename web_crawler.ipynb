{
 "cells": [
  {
   "cell_type": "markdown",
   "metadata": {},
   "source": [
    "## Notebook cào dữ liệu"
   ]
  },
  {
   "cell_type": "code",
   "execution_count": 20,
   "metadata": {},
   "outputs": [],
   "source": [
    "def write_to_json_file(data, file_name):\n",
    "  import json\n",
    "  json_object = json.dumps(data, ensure_ascii=False)\n",
    "  with open(file_name, \"w\", encoding=\"utf-8\") as outfile:\n",
    "    outfile.write(json_object)"
   ]
  },
  {
   "cell_type": "code",
   "execution_count": 2,
   "metadata": {},
   "outputs": [
    {
     "name": "stderr",
     "output_type": "stream",
     "text": [
      "c:\\Users\\ASUS\\AppData\\Local\\Programs\\Python\\Python38-32\\lib\\site-packages\\urllib3\\connectionpool.py:981: InsecureRequestWarning: Unverified HTTPS request is being made to host 'www.petmart.vn'. Adding certificate verification is strongly advised. See: https://urllib3.readthedocs.io/en/latest/advanced-usage.html#ssl-warnings\n",
      "  warnings.warn(\n"
     ]
    }
   ],
   "source": [
    "from bs4 import BeautifulSoup\n",
    "import requests\n",
    "\n",
    "url = \"https://www.petmart.vn/hoi-dap-thu-y-mien-phi\"\n",
    "page = requests.get(url, verify=False)\n",
    "soup = BeautifulSoup(page.text, 'html.parser')"
   ]
  },
  {
   "cell_type": "code",
   "execution_count": 3,
   "metadata": {},
   "outputs": [],
   "source": [
    "def get_comments(): \n",
    "  soup.find(class_='comment')\n",
    "  comments = soup.find_all(\"li\", class_='comment')\n",
    "  return comments\n",
    "\n",
    "def classify_comments(comments):\n",
    "  ask_list = []\n",
    "  ask_answer_list = []\n",
    "  for i in comments:\n",
    "    content = i.find_all(class_='comment-content')\n",
    "    if len(content) == 1:\n",
    "      ask_list.append(content)\n",
    "    else:\n",
    "      ask_answer_list.append(content)\n",
    "  return ask_list, ask_answer_list"
   ]
  },
  {
   "cell_type": "markdown",
   "metadata": {},
   "source": [
    "Tập dữ liệu được thu thập từ mục hỏi đáp thú y của Petmart có 194 mẫu, câu truyện hỏi đáp. Trong đó chỉ có 59 câu truyện có câu trả lời, còn lại 135 mẫu câu hỏi nhưng bị thiếu câu trả lời."
   ]
  },
  {
   "cell_type": "code",
   "execution_count": 4,
   "metadata": {},
   "outputs": [
    {
     "data": {
      "text/plain": [
       "(195, 136, 59)"
      ]
     },
     "execution_count": 4,
     "metadata": {},
     "output_type": "execute_result"
    }
   ],
   "source": [
    "comments = get_comments() # comments \n",
    "[ask_list, ask_answer_list] = classify_comments(comments)\n",
    "len(comments), len(ask_list), len(ask_answer_list)"
   ]
  },
  {
   "cell_type": "markdown",
   "metadata": {},
   "source": [
    "Lấy các mẫu cẩu hỏi và định dạng theo kiểu JSON {ask: \"lorem srum....\"}\n",
    "Có 135 mẫu kiểu này"
   ]
  },
  {
   "cell_type": "code",
   "execution_count": 5,
   "metadata": {},
   "outputs": [
    {
     "data": {
      "text/plain": [
       "136"
      ]
     },
     "execution_count": 5,
     "metadata": {},
     "output_type": "execute_result"
    }
   ],
   "source": [
    "# list only have ask but haven't answer yet\n",
    "ask_data = []\n",
    "for item in ask_list:\n",
    "  ask = (item[0].contents)[0].text\n",
    "  ask_data.append({\"ask\": ask})\n",
    "len(ask_data)"
   ]
  },
  {
   "cell_type": "markdown",
   "metadata": {},
   "source": [
    "Định dạng các câu truyện ngắn theo mẫu câu hỏi - câu trả lời. Mỗi câu truyện sẽ có dạng {\"ask\": \"abc\", \"answer\": \"xyz\"}.\n",
    "Đồng thời nếu câu truyện dài thì ta lưu vào list và sẽ có định dạng khác\n",
    "\n",
    "Hiện tại có 50 câu truyện ngắn chỉ bao gồm có 1 câu hỏi - 1 câu trả lời"
   ]
  },
  {
   "cell_type": "code",
   "execution_count": 6,
   "metadata": {},
   "outputs": [
    {
     "data": {
      "text/plain": [
       "50"
      ]
     },
     "execution_count": 6,
     "metadata": {},
     "output_type": "execute_result"
    }
   ],
   "source": [
    "ask_answer_data = []\n",
    "story_list = [] # item with len > 2\n",
    "for item in ask_answer_list:\n",
    "  # [ask, answer] = item\n",
    "  if (len(item) > 2):\n",
    "    story_list.append(item)\n",
    "  else:\n",
    "    [ask, answer] = item\n",
    "    ask = ask.contents[0].text\n",
    "    answer = answer.contents[0].text\n",
    "    ask_answer_data.append({\"ask\": ask, \"answer\": answer})\n",
    "len(ask_answer_data)"
   ]
  },
  {
   "cell_type": "markdown",
   "metadata": {},
   "source": [
    "Câu Chuyện dài sẽ có dạng [{\"ask\": \"hỏi\"}, {\"answer\": \"đáp\"}, {\"ask\": \"hỏi tiếp\"}, {\"answer\": \"đáp tiếp\"}]\n",
    "\n",
    "Hiện tại có 9 câu chuyện dài"
   ]
  },
  {
   "cell_type": "code",
   "execution_count": 7,
   "metadata": {},
   "outputs": [
    {
     "name": "stdout",
     "output_type": "stream",
     "text": [
      "9\n"
     ]
    }
   ],
   "source": [
    "stories_data = []\n",
    "for story in story_list:\n",
    "  i = 0\n",
    "  story_data = []\n",
    "  for item in story:\n",
    "    if i % 2 == 0:\n",
    "      ask = item.contents[0].text\n",
    "      story_data.append({\"ask\": ask})\n",
    "    else:\n",
    "      answer = item.contents[0].text\n",
    "      story_data.append({\"answer\": answer})\n",
    "    i += 1\n",
    "  stories_data.append(story_data)\n",
    "print(len(stories_data))"
   ]
  },
  {
   "cell_type": "markdown",
   "metadata": {},
   "source": [
    "Ghi tất cả các dữ liệu đã cào được ra file"
   ]
  },
  {
   "cell_type": "code",
   "execution_count": 21,
   "metadata": {},
   "outputs": [],
   "source": [
    "write_to_json_file(ask_data, \"petmart_only_ask_data.json\")\n",
    "write_to_json_file(ask_answer_data, \"petmart_ask_answer_data.json\")\n",
    "write_to_json_file(stories_data, \"petmart_stories_data.json\")"
   ]
  }
 ],
 "metadata": {
  "kernelspec": {
   "display_name": "Python 3.8.3 32-bit",
   "language": "python",
   "name": "python3"
  },
  "language_info": {
   "codemirror_mode": {
    "name": "ipython",
    "version": 3
   },
   "file_extension": ".py",
   "mimetype": "text/x-python",
   "name": "python",
   "nbconvert_exporter": "python",
   "pygments_lexer": "ipython3",
   "version": "3.8.3"
  },
  "orig_nbformat": 4,
  "vscode": {
   "interpreter": {
    "hash": "8ed999c28bc32721ac51a38ca1a57016e41ebd3526a013e738b73c17d9f87e0e"
   }
  }
 },
 "nbformat": 4,
 "nbformat_minor": 2
}
