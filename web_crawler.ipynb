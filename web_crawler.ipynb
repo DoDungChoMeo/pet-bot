{
 "cells": [
  {
   "cell_type": "markdown",
   "metadata": {},
   "source": [
    "## Notebook cào dữ liệu"
   ]
  },
  {
   "cell_type": "code",
   "execution_count": 4,
   "metadata": {},
   "outputs": [],
   "source": [
    "def write_to_json_file(data, file_name):\n",
    "  import json\n",
    "  json_object = json.dumps(data, ensure_ascii=False)\n",
    "  with open(file_name, \"w\", encoding=\"utf-8\") as outfile:\n",
    "    outfile.write(json_object)"
   ]
  },
  {
   "cell_type": "code",
   "execution_count": 5,
   "metadata": {},
   "outputs": [
    {
     "name": "stderr",
     "output_type": "stream",
     "text": [
      "c:\\Users\\ASUS\\AppData\\Local\\Programs\\Python\\Python38-32\\lib\\site-packages\\urllib3\\connectionpool.py:981: InsecureRequestWarning: Unverified HTTPS request is being made to host 'www.petmart.vn'. Adding certificate verification is strongly advised. See: https://urllib3.readthedocs.io/en/latest/advanced-usage.html#ssl-warnings\n",
      "  warnings.warn(\n"
     ]
    }
   ],
   "source": [
    "from bs4 import BeautifulSoup\n",
    "import requests\n",
    "\n",
    "url = \"https://www.petmart.vn/hoi-dap-thu-y-mien-phi\"\n",
    "page = requests.get(url, verify=False)\n",
    "soup = BeautifulSoup(page.text, 'html.parser')"
   ]
  },
  {
   "cell_type": "code",
   "execution_count": 6,
   "metadata": {},
   "outputs": [],
   "source": [
    "def get_comments(): \n",
    "  soup.find(class_='comment')\n",
    "  comments = soup.find_all(\"li\", class_='comment')\n",
    "  return comments\n",
    "\n",
    "def classify_comments(comments):\n",
    "  ask_list = []\n",
    "  ask_answer_list = []\n",
    "  for i in comments:\n",
    "    content = i.find_all(class_='comment-content')\n",
    "    if len(content) == 1:\n",
    "      ask_list.append(content)\n",
    "    else:\n",
    "      ask_answer_list.append(content)\n",
    "  return ask_list, ask_answer_list"
   ]
  },
  {
   "cell_type": "markdown",
   "metadata": {},
   "source": [
    "Tập dữ liệu được thu thập từ mục hỏi đáp thú y của Petmart có 194 mẫu, câu truyện hỏi đáp. Trong đó chỉ có 59 câu truyện có câu trả lời, còn lại 135 mẫu câu hỏi nhưng bị thiếu câu trả lời."
   ]
  },
  {
   "cell_type": "code",
   "execution_count": 7,
   "metadata": {},
   "outputs": [
    {
     "data": {
      "text/plain": [
       "(197, 138, 59)"
      ]
     },
     "execution_count": 7,
     "metadata": {},
     "output_type": "execute_result"
    }
   ],
   "source": [
    "comments = get_comments() # comments \n",
    "[ask_list, ask_answer_list] = classify_comments(comments)\n",
    "len(comments), len(ask_list), len(ask_answer_list)"
   ]
  },
  {
   "cell_type": "markdown",
   "metadata": {},
   "source": [
    "Lấy các mẫu cẩu hỏi và định dạng theo kiểu JSON {ask: \"lorem srum....\"}\n",
    "Có 135 mẫu kiểu này"
   ]
  },
  {
   "cell_type": "code",
   "execution_count": 8,
   "metadata": {},
   "outputs": [
    {
     "data": {
      "text/plain": [
       "[{'ask': 'Shop ơi, mèo em mèo con hơn 1 tháng, em mới đón bé về mấy ngày, thì nay mèo có dấu hiệu đi phân hơi nhão, lỏng có xíu máu thì em nên làm gì ạ?'},\n",
       " {'ask': 'Chó nhà em không biết vì sao bắt đầu nhỏ nước dãi và không khép miệng lại được luôn thè lưỡi ra, bé cũng có ăn chút ít nhưng bây giờ miệng bé sưng phù lên, và không ăn được nữa chỉ uống nước, dáng đi bé uể oải, cổ hơi niểng sang bên khác, mắt lúc nào cũng chảy nước.'},\n",
       " {'ask': 'Cho mình hỏi, nhà có nuôi 1 con poodle gần 1 tuổi trước để bạn dưới nhà thì bạn ra đằng sau đi vệ sinh, nay bạn ấy leo cầu thang được là cứ leo lên phòng ngủ chơi về đi vệ sinh bừa bãi, mình muốn hỏi cách huấn luyện hay chỗ nào nhận huấn luyện để mình biết vì bé nhỏ nuôi nhưng đi học cả ngày không có thời gian và cũng không biết cách huấn luyện cho bạn ấy đi vệ sinh đúng nơi đúng chỗ. Nhờ bên cửa hàng hỗ trợ tư vấn dùm. Xin cảm ơn!'}]"
      ]
     },
     "execution_count": 8,
     "metadata": {},
     "output_type": "execute_result"
    }
   ],
   "source": [
    "# list only have ask but haven't answer yet\n",
    "ask_data = []\n",
    "for item in ask_list:\n",
    "  ask = (item[0].contents)[0].text\n",
    "  ask_data.append({\"ask\": ask})\n",
    "len(ask_data)\n",
    "ask_data[:3]"
   ]
  },
  {
   "cell_type": "markdown",
   "metadata": {},
   "source": [
    "Định dạng các câu truyện ngắn theo mẫu câu hỏi - câu trả lời. Mỗi câu truyện sẽ có dạng {\"ask\": \"abc\", \"answer\": \"xyz\"}.\n",
    "Đồng thời nếu câu truyện dài thì ta lưu vào list và sẽ có định dạng khác\n",
    "\n",
    "Hiện tại có 50 câu truyện ngắn chỉ bao gồm có 1 câu hỏi - 1 câu trả lời"
   ]
  },
  {
   "cell_type": "code",
   "execution_count": 9,
   "metadata": {},
   "outputs": [
    {
     "data": {
      "text/plain": [
       "(50,\n",
       " [{'ask': 'Dạ cho em hỏi, mèo nhà em được gần 4 năm tuổi rồi ạ. Thì bình thường trong nhà cũng không chú ý việc tiêm vaccine nên là mèo chưa có mũi tiêm nào. Hai ba hôm gần đây, tự nhiên mèo bị tiêu chảy (phân lỏng có màu hồng nhạt), có cho nhịn ăn cỡ 8 tiếng rồi cho ăn ít ít thành từng bữa (đồ ăn hạt của mèo), nhưng mèo vẫn bị tiêu chảy, có nôn ít (1 lần sau 3 ngày bị tiêu chảy), ăn cũng ít lại. Mong các bác sĩ tư vấn ạ, em cảm ơn nhiều ạ.',\n",
       "   'answer': 'Chào bạn, Pet Mart hỗ trợ tư vấn tới bạn một số thông tin như sau:\\n1. Về vấn đề tiêm phòng, mặc dù mèo 4 năm tuổi trưởng thành sức đề kháng tương đối tốt rồi, nhưng không nên chủ quan. Bạn nên cho bé đi tiêm phòng đầy đủ và định kỳ 1 năm 1 lần nhé.\\n2. Gần đây bạn thấy mèo phân bất thường, tiêu chảy thì bạn cần xem lại vấn đề ăn của bé. Cụ thể là đồ dùng ăn có vệ sinh sạch sẽ không? Cung cấp nước sạch, không dùng nước máy! Ngoài ra, bạn xem thức ăn hạt cho mèo là loại gì, của hãng nào? Trước đó có dùng loại này không? Nếu là loại mới thì nên dừng lại. Còn nếu vẫn là loại cũ thì kiểm tra Hạn sử dụng hoặc bảo quản hạt.\\n3. Mua men tiêu hóa Enterogermina cho mèo uống 1 ngày 2 ống (sau hoặc trước ăn) để cải thiện lại hệ tiêu hóa và đường ruột. Nếu mèo ăn được cháo thịt, thì nên chuyển cho ăn cháo loãng ít hôm. Nếu sau vài ngày ăn như vậy + uống men tiêu hóa mà đi phân bình thường trở lại tức là vấn đề của mèo đang gặp phải là ở Điều số 2 kể trên. Còn nếu vẫn tiếp tục tiêu chảy bạn cần cho mèo đến thú y để test phân xem đang gặp phải vấn đề gì để có phác đồ điều trị sớm nhé!'},\n",
       "  {'ask': 'Dạ shop ơi. Bé nhà mình là giống chó Poodle 1,5kg. Mình có đăng ký tiêm 7 bệnh cho bé. Mới tuần trước mình đi tiêm mũi thứ 3 cho bé (tại cửa hàng thú y). Nhưng do mình quên không mang sổ tiêm nên người ta không điền mũi 3 cho được. Nay mình nhờ đứa em cho bé đi tiêm dại. Nhưng mình quên không nhắc nó mũi 3 tiêm rồi nhưng quên không ghi vào sổ. Lần này mình đến cửa hàng khác tiêm, người ta không biết nên tiêm mũi 3 lại lần nữa. Mũi 3 trước với mũi 3 này cách nhau 1 tuần. Không biết bé nhà mình có bị sao không ạ. Em sơ suất quá ạ!',\n",
       "   'answer': 'Chào bạn, Pet Mart phản hồi thông tin đến bạn như sau:\\n– Thứ 1: về nguyên tắc mỗi ống vacxin sau khi tiêm xong sẽ đều có 1 cái tem đi kèm. Tem đó để sử dụng dán vào sổ sức khỏe của bé để tự nhắc mình lưu trữ thời gian tiêm phòng của bé. Nếu trong trường hợp bạn không mang theo sổ thì bác sĩ vẫn phải cung cấp vỏ ống tiêm và tem cho bạn để bạn có thể tự đem về và dán vào sổ sức khỏe của bé. Bản chất của việc này chủ yếu là để nhắc nhở mình lưu trữ thời gian tiêm của bé để sau ngày tiêm nhắc lại thôi. Nên bạn hoàn toàn có thể quay lại đó yêu cầu người ta trả lại tem dán tiêm vacxin cho bạn nhé, hoặc bạn chỉ cần ghi vào trong sổ ngày tiêm của bé mà không cần tem đó. Ghi lại tên của vacxin vào phần tem dán là được.'},\n",
       "  {'ask': 'Bác sĩ cho em hỏi chó nhà em ăn chuông lắc trên vòng đeo cổ thì có bị làm sao không ạ?',\n",
       "   'answer': 'Chào bạn, bạn cần kiểm tra phân của bé mỗi khi bé đi nặng, nếu trong khoảng 2 ngày mà bé không đẩy lục lạc qua đường phân thì bạn cần phải đưa bé đến ngay thú y để mổ và đưa dị vật ra khỏi dạ dày của bé nếu không sẽ rất nguy hiểm.'}])"
      ]
     },
     "execution_count": 9,
     "metadata": {},
     "output_type": "execute_result"
    }
   ],
   "source": [
    "ask_answer_data = []\n",
    "story_list = [] # item with len > 2\n",
    "for item in ask_answer_list:\n",
    "  # [ask, answer] = item\n",
    "  if (len(item) > 2):\n",
    "    story_list.append(item)\n",
    "  else:\n",
    "    [ask, answer] = item\n",
    "    ask = ask.contents[0].text\n",
    "    answer = answer.contents[0].text\n",
    "    ask_answer_data.append({\"ask\": ask, \"answer\": answer})\n",
    "len(ask_answer_data), ask_answer_data[:3]"
   ]
  },
  {
   "cell_type": "markdown",
   "metadata": {},
   "source": [
    "Câu Chuyện dài sẽ có dạng [{\"ask\": \"hỏi\"}, {\"answer\": \"đáp\"}, {\"ask\": \"hỏi tiếp\"}, {\"answer\": \"đáp tiếp\"}]\n",
    "\n",
    "Hiện tại có 9 câu chuyện dài"
   ]
  },
  {
   "cell_type": "code",
   "execution_count": 10,
   "metadata": {},
   "outputs": [
    {
     "name": "stdout",
     "output_type": "stream",
     "text": [
      "9\n"
     ]
    },
    {
     "data": {
      "text/plain": [
       "[{'ask': 'Bé cún nhà em không hiểu sao chiều vẫn bình thường nhưng sáng ngủ dậy lại bị sưng 1 bên mặt, mọi khi thì năng động lắm giờ lầm lì, ít hoạt động và không chịu ăn, em tính đưa bé đi khám nhưng nhà lại bảo quan sát 1-2 ngày. Nhờ Pet Mart tư vấn giải pháp được không ạ?'},\n",
       " {'answer': 'Chào bạn theo như thông tin bạn miêu tả, thì khả năng bé chó nhà mình đã bị dị ứng 1 cái gì đó khiến cho mặt bị phù nề. Trường hợp này thì Pet Mart không thể tư vấn online cho bạn được, bạn nên đưa bé đi thú y để bác sĩ kiểm tra trực tiếp sẽ đánh giá được chính xác vấn đề của bé. Hoặc bạn có thể tham khảo thêm bài viết này: https://www.petmart.vn/trieu-chung-benh-di-ung-o-cho-va-cach-dieu-tri 13 triệu chứng bệnh dị ứng ở chó và cách điều trị'},\n",
       " {'ask': 'Cho em hỏi luôn với ạ. Chuyện là bé mèo nhà em ban đêm ngày hôm kia bỗng dưng nôn 2,3 lần (hôm sau là hết nôn) nhưng sáng ra em thấy tay bé sưng to lên bất thường, theo dõi được 1 ngày thì thấy nó vẫn sưng và còn thêm chảy mủ với khó di chuyển hơn, tay có mùi hôi. Bé mèo nhà e bị gì vậy ạ Mong đội ngũ petmart giúp đỡ em với ạ. Em cảm ơn'}]"
      ]
     },
     "execution_count": 10,
     "metadata": {},
     "output_type": "execute_result"
    }
   ],
   "source": [
    "stories_data = []\n",
    "for story in story_list:\n",
    "  i = 0\n",
    "  story_data = []\n",
    "  for item in story:\n",
    "    if i % 2 == 0:\n",
    "      ask = item.contents[0].text\n",
    "      story_data.append({\"ask\": ask})\n",
    "    else:\n",
    "      answer = item.contents[0].text\n",
    "      story_data.append({\"answer\": answer})\n",
    "    i += 1\n",
    "  stories_data.append(story_data)\n",
    "print(len(stories_data))\n",
    "stories_data[0]"
   ]
  },
  {
   "cell_type": "markdown",
   "metadata": {},
   "source": [
    "Ghi tất cả các dữ liệu đã cào được ra file"
   ]
  },
  {
   "cell_type": "code",
   "execution_count": 11,
   "metadata": {},
   "outputs": [],
   "source": [
    "write_to_json_file(ask_data, \"petmart_only_ask_data.json\")\n",
    "write_to_json_file(ask_answer_data, \"petmart_ask_answer_data.json\")\n",
    "write_to_json_file(stories_data, \"petmart_stories_data.json\")"
   ]
  }
 ],
 "metadata": {
  "kernelspec": {
   "display_name": "Python 3.8.3 32-bit",
   "language": "python",
   "name": "python3"
  },
  "language_info": {
   "codemirror_mode": {
    "name": "ipython",
    "version": 3
   },
   "file_extension": ".py",
   "mimetype": "text/x-python",
   "name": "python",
   "nbconvert_exporter": "python",
   "pygments_lexer": "ipython3",
   "version": "3.8.3 (tags/v3.8.3:6f8c832, May 13 2020, 22:20:19) [MSC v.1925 32 bit (Intel)]"
  },
  "orig_nbformat": 4,
  "vscode": {
   "interpreter": {
    "hash": "8ed999c28bc32721ac51a38ca1a57016e41ebd3526a013e738b73c17d9f87e0e"
   }
  }
 },
 "nbformat": 4,
 "nbformat_minor": 2
}
